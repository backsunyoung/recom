{
 "cells": [
  {
   "cell_type": "code",
   "execution_count": 1,
   "id": "6cd2a492",
   "metadata": {
    "_cell_guid": "b1076dfc-b9ad-4769-8c92-a6c4dae69d19",
    "_uuid": "8f2839f25d086af736a60e9eeb907d3b93b6e0e5",
    "execution": {
     "iopub.execute_input": "2023-01-17T15:40:03.490300Z",
     "iopub.status.busy": "2023-01-17T15:40:03.489282Z",
     "iopub.status.idle": "2023-01-17T15:40:03.512877Z",
     "shell.execute_reply": "2023-01-17T15:40:03.511720Z"
    },
    "papermill": {
     "duration": 0.039584,
     "end_time": "2023-01-17T15:40:03.515881",
     "exception": false,
     "start_time": "2023-01-17T15:40:03.476297",
     "status": "completed"
    },
    "tags": []
   },
   "outputs": [
    {
     "name": "stdout",
     "output_type": "stream",
     "text": [
      "/kaggle/input/book-recommendation-dataset/Ratings.csv\n",
      "/kaggle/input/book-recommendation-dataset/Users.csv\n",
      "/kaggle/input/book-recommendation-dataset/Books.csv\n"
     ]
    }
   ],
   "source": [
    "# This Python 3 environment comes with many helpful analytics libraries installed\n",
    "# It is defined by the kaggle/python Docker image: https://github.com/kaggle/docker-python\n",
    "# For example, here's several helpful packages to load\n",
    "\n",
    "import numpy as np # linear algebra\n",
    "import pandas as pd # data processing, CSV file I/O (e.g. pd.read_csv)\n",
    "\n",
    "# Input data files are available in the read-only \"../input/\" directory\n",
    "# For example, running this (by clicking run or pressing Shift+Enter) will list all files under the input directory\n",
    "\n",
    "import os\n",
    "for dirname, _, filenames in os.walk('/kaggle/input'):\n",
    "    for filename in filenames:\n",
    "        print(os.path.join(dirname, filename))\n",
    "\n",
    "# You can write up to 20GB to the current directory (/kaggle/working/) that gets preserved as output when you create a version using \"Save & Run All\" \n",
    "# You can also write temporary files to /kaggle/temp/, but they won't be saved outside of the current session"
   ]
  },
  {
   "cell_type": "code",
   "execution_count": 2,
   "id": "6000bfc5",
   "metadata": {
    "execution": {
     "iopub.execute_input": "2023-01-17T15:40:03.538340Z",
     "iopub.status.busy": "2023-01-17T15:40:03.537956Z",
     "iopub.status.idle": "2023-01-17T15:40:06.396345Z",
     "shell.execute_reply": "2023-01-17T15:40:06.395186Z"
    },
    "papermill": {
     "duration": 2.872283,
     "end_time": "2023-01-17T15:40:06.398816",
     "exception": false,
     "start_time": "2023-01-17T15:40:03.526533",
     "status": "completed"
    },
    "tags": []
   },
   "outputs": [
    {
     "name": "stderr",
     "output_type": "stream",
     "text": [
      "/opt/conda/lib/python3.7/site-packages/IPython/core/interactiveshell.py:3552: DtypeWarning: Columns (3) have mixed types.Specify dtype option on import or set low_memory=False.\n",
      "  exec(code_obj, self.user_global_ns, self.user_ns)\n"
     ]
    }
   ],
   "source": [
    "#read all the input files\n",
    "books = pd.read_csv(\"../input/book-recommendation-dataset/Books.csv\")"
   ]
  },
  {
   "cell_type": "code",
   "execution_count": 3,
   "id": "3f692e05",
   "metadata": {
    "execution": {
     "iopub.execute_input": "2023-01-17T15:40:06.422802Z",
     "iopub.status.busy": "2023-01-17T15:40:06.422183Z",
     "iopub.status.idle": "2023-01-17T15:40:07.714140Z",
     "shell.execute_reply": "2023-01-17T15:40:07.713065Z"
    },
    "papermill": {
     "duration": 1.307474,
     "end_time": "2023-01-17T15:40:07.716625",
     "exception": false,
     "start_time": "2023-01-17T15:40:06.409151",
     "status": "completed"
    },
    "tags": []
   },
   "outputs": [],
   "source": [
    "users = pd.read_csv(\"../input/book-recommendation-dataset/Users.csv\")\n",
    "ratings = pd.read_csv(\"../input/book-recommendation-dataset/Ratings.csv\")"
   ]
  },
  {
   "cell_type": "code",
   "execution_count": 4,
   "id": "dfe3b2ba",
   "metadata": {
    "execution": {
     "iopub.execute_input": "2023-01-17T15:40:07.738610Z",
     "iopub.status.busy": "2023-01-17T15:40:07.738138Z",
     "iopub.status.idle": "2023-01-17T15:40:07.765315Z",
     "shell.execute_reply": "2023-01-17T15:40:07.764193Z"
    },
    "papermill": {
     "duration": 0.041338,
     "end_time": "2023-01-17T15:40:07.767999",
     "exception": false,
     "start_time": "2023-01-17T15:40:07.726661",
     "status": "completed"
    },
    "tags": []
   },
   "outputs": [
    {
     "data": {
      "text/html": [
       "<div>\n",
       "<style scoped>\n",
       "    .dataframe tbody tr th:only-of-type {\n",
       "        vertical-align: middle;\n",
       "    }\n",
       "\n",
       "    .dataframe tbody tr th {\n",
       "        vertical-align: top;\n",
       "    }\n",
       "\n",
       "    .dataframe thead th {\n",
       "        text-align: right;\n",
       "    }\n",
       "</style>\n",
       "<table border=\"1\" class=\"dataframe\">\n",
       "  <thead>\n",
       "    <tr style=\"text-align: right;\">\n",
       "      <th></th>\n",
       "      <th>ISBN</th>\n",
       "      <th>Book-Title</th>\n",
       "      <th>Book-Author</th>\n",
       "      <th>Year-Of-Publication</th>\n",
       "      <th>Publisher</th>\n",
       "      <th>Image-URL-S</th>\n",
       "      <th>Image-URL-M</th>\n",
       "      <th>Image-URL-L</th>\n",
       "    </tr>\n",
       "  </thead>\n",
       "  <tbody>\n",
       "    <tr>\n",
       "      <th>0</th>\n",
       "      <td>0195153448</td>\n",
       "      <td>Classical Mythology</td>\n",
       "      <td>Mark P. O. Morford</td>\n",
       "      <td>2002</td>\n",
       "      <td>Oxford University Press</td>\n",
       "      <td>http://images.amazon.com/images/P/0195153448.0...</td>\n",
       "      <td>http://images.amazon.com/images/P/0195153448.0...</td>\n",
       "      <td>http://images.amazon.com/images/P/0195153448.0...</td>\n",
       "    </tr>\n",
       "    <tr>\n",
       "      <th>1</th>\n",
       "      <td>0002005018</td>\n",
       "      <td>Clara Callan</td>\n",
       "      <td>Richard Bruce Wright</td>\n",
       "      <td>2001</td>\n",
       "      <td>HarperFlamingo Canada</td>\n",
       "      <td>http://images.amazon.com/images/P/0002005018.0...</td>\n",
       "      <td>http://images.amazon.com/images/P/0002005018.0...</td>\n",
       "      <td>http://images.amazon.com/images/P/0002005018.0...</td>\n",
       "    </tr>\n",
       "    <tr>\n",
       "      <th>2</th>\n",
       "      <td>0060973129</td>\n",
       "      <td>Decision in Normandy</td>\n",
       "      <td>Carlo D'Este</td>\n",
       "      <td>1991</td>\n",
       "      <td>HarperPerennial</td>\n",
       "      <td>http://images.amazon.com/images/P/0060973129.0...</td>\n",
       "      <td>http://images.amazon.com/images/P/0060973129.0...</td>\n",
       "      <td>http://images.amazon.com/images/P/0060973129.0...</td>\n",
       "    </tr>\n",
       "    <tr>\n",
       "      <th>3</th>\n",
       "      <td>0374157065</td>\n",
       "      <td>Flu: The Story of the Great Influenza Pandemic...</td>\n",
       "      <td>Gina Bari Kolata</td>\n",
       "      <td>1999</td>\n",
       "      <td>Farrar Straus Giroux</td>\n",
       "      <td>http://images.amazon.com/images/P/0374157065.0...</td>\n",
       "      <td>http://images.amazon.com/images/P/0374157065.0...</td>\n",
       "      <td>http://images.amazon.com/images/P/0374157065.0...</td>\n",
       "    </tr>\n",
       "    <tr>\n",
       "      <th>4</th>\n",
       "      <td>0393045218</td>\n",
       "      <td>The Mummies of Urumchi</td>\n",
       "      <td>E. J. W. Barber</td>\n",
       "      <td>1999</td>\n",
       "      <td>W. W. Norton &amp;amp; Company</td>\n",
       "      <td>http://images.amazon.com/images/P/0393045218.0...</td>\n",
       "      <td>http://images.amazon.com/images/P/0393045218.0...</td>\n",
       "      <td>http://images.amazon.com/images/P/0393045218.0...</td>\n",
       "    </tr>\n",
       "  </tbody>\n",
       "</table>\n",
       "</div>"
      ],
      "text/plain": [
       "         ISBN                                         Book-Title  \\\n",
       "0  0195153448                                고전 신화의 마음   \n",
       "1  0002005018                                       클라라의 일생   \n",
       "2  0060973129                               Decision in Normandy   \n",
       "3  0374157065  Flu: The Story of the Great Influenza Pandemic...   \n",
       "4  0393045218                             The Mummies of Urumchi   \n",
       "\n",
       "            Book-Author Year-Of-Publication                   Publisher  \\\n",
       "0    Mark P. O. Morford                2002     Oxford University Press   \n",
       "1  Richard Bruce Wright                2001       HarperFlamingo Canada   \n",
       "2          Carlo D'Este                1991             HarperPerennial   \n",
       "3      Gina Bari Kolata                1999        Farrar Straus Giroux   \n",
       "4       E. J. W. Barber                1999  W. W. Norton &amp; Company   \n",
       "\n",
       "                                         Image-URL-S  \\\n",
       "0  http://images.amazon.com/images/P/0195153448.0...   \n",
       "1  http://images.amazon.com/images/P/0002005018.0...   \n",
       "2  http://images.amazon.com/images/P/0060973129.0...   \n",
       "3  http://images.amazon.com/images/P/0374157065.0...   \n",
       "4  http://images.amazon.com/images/P/0393045218.0...   \n",
       "\n",
       "                                         Image-URL-M  \\\n",
       "0  http://images.amazon.com/images/P/0195153448.0...   \n",
       "1  http://images.amazon.com/images/P/0002005018.0...   \n",
       "2  http://images.amazon.com/images/P/0060973129.0...   \n",
       "3  http://images.amazon.com/images/P/0374157065.0...   \n",
       "4  http://images.amazon.com/images/P/0393045218.0...   \n",
       "\n",
       "                                         Image-URL-L  \n",
       "0  http://images.amazon.com/images/P/0195153448.0...  \n",
       "1  http://images.amazon.com/images/P/0002005018.0...  \n",
       "2  http://images.amazon.com/images/P/0060973129.0...  \n",
       "3  http://images.amazon.com/images/P/0374157065.0...  \n",
       "4  http://images.amazon.com/images/P/0393045218.0...  "
      ]
     },
     "execution_count": 4,
     "metadata": {},
     "output_type": "execute_result"
    }
   ],
   "source": [
    "books.head()"
   ]
  },
  {
   "cell_type": "code",
   "execution_count": 5,
   "id": "4bf0900a",
   "metadata": {
    "execution": {
     "iopub.execute_input": "2023-01-17T15:40:07.791036Z",
     "iopub.status.busy": "2023-01-17T15:40:07.790602Z",
     "iopub.status.idle": "2023-01-17T15:40:07.795618Z",
     "shell.execute_reply": "2023-01-17T15:40:07.794491Z"
    },
    "papermill": {
     "duration": 0.01938,
     "end_time": "2023-01-17T15:40:07.798291",
     "exception": false,
     "start_time": "2023-01-17T15:40:07.778911",
     "status": "completed"
    },
    "tags": []
   },
   "outputs": [],
   "source": [
    "#Selecting only useful information ( removing image URLs)\n",
    "books = books.iloc[:,:5]"
   ]
  },
  {
   "cell_type": "code",
   "execution_count": 6,
   "id": "218b0e7d",
   "metadata": {
    "execution": {
     "iopub.execute_input": "2023-01-17T15:40:07.821298Z",
     "iopub.status.busy": "2023-01-17T15:40:07.820796Z",
     "iopub.status.idle": "2023-01-17T15:40:07.833591Z",
     "shell.execute_reply": "2023-01-17T15:40:07.832461Z"
    },
    "papermill": {
     "duration": 0.027299,
     "end_time": "2023-01-17T15:40:07.836187",
     "exception": false,
     "start_time": "2023-01-17T15:40:07.808888",
     "status": "completed"
    },
    "tags": []
   },
   "outputs": [
    {
     "data": {
      "text/html": [
       "<div>\n",
       "<style scoped>\n",
       "    .dataframe tbody tr th:only-of-type {\n",
       "        vertical-align: middle;\n",
       "    }\n",
       "\n",
       "    .dataframe tbody tr th {\n",
       "        vertical-align: top;\n",
       "    }\n",
       "\n",
       "    .dataframe thead th {\n",
       "        text-align: right;\n",
       "    }\n",
       "</style>\n",
       "<table border=\"1\" class=\"dataframe\">\n",
       "  <thead>\n",
       "    <tr style=\"text-align: right;\">\n",
       "      <th></th>\n",
       "      <th>ISBN</th>\n",
       "      <th>Book-Title</th>\n",
       "      <th>Book-Author</th>\n",
       "      <th>Year-Of-Publication</th>\n",
       "      <th>Publisher</th>\n",
       "    </tr>\n",
       "  </thead>\n",
       "  <tbody>\n",
       "    <tr>\n",
       "      <th>0</th>\n",
       "      <td>0195153448</td>\n",
       "      <td>Classical Mythology</td>\n",
       "      <td>Mark P. O. Morford</td>\n",
       "      <td>2002</td>\n",
       "      <td>Oxford University Press</td>\n",
       "    </tr>\n",
       "    <tr>\n",
       "      <th>1</th>\n",
       "      <td>0002005018</td>\n",
       "      <td>Clara Callan</td>\n",
       "      <td>Richard Bruce Wright</td>\n",
       "      <td>2001</td>\n",
       "      <td>HarperFlamingo Canada</td>\n",
       "    </tr>\n",
       "    <tr>\n",
       "      <th>2</th>\n",
       "      <td>0060973129</td>\n",
       "      <td>Decision in Normandy</td>\n",
       "      <td>Carlo D'Este</td>\n",
       "      <td>1991</td>\n",
       "      <td>HarperPerennial</td>\n",
       "    </tr>\n",
       "    <tr>\n",
       "      <th>3</th>\n",
       "      <td>0374157065</td>\n",
       "      <td>Flu: The Story of the Great Influenza Pandemic...</td>\n",
       "      <td>Gina Bari Kolata</td>\n",
       "      <td>1999</td>\n",
       "      <td>Farrar Straus Giroux</td>\n",
       "    </tr>\n",
       "    <tr>\n",
       "      <th>4</th>\n",
       "      <td>0393045218</td>\n",
       "      <td>The Mummies of Urumchi</td>\n",
       "      <td>E. J. W. Barber</td>\n",
       "      <td>1999</td>\n",
       "      <td>W. W. Norton &amp;amp; Company</td>\n",
       "    </tr>\n",
       "  </tbody>\n",
       "</table>\n",
       "</div>"
      ],
      "text/plain": [
       "         ISBN                                         Book-Title  \\\n",
       "0  0195153448                                Classical Mythology   \n",
       "1  0002005018                                       Clara Callan   \n",
       "2  0060973129                               Decision in Normandy   \n",
       "3  0374157065  Flu: The Story of the Great Influenza Pandemic...   \n",
       "4  0393045218                             The Mummies of Urumchi   \n",
       "\n",
       "            Book-Author Year-Of-Publication                   Publisher  \n",
       "0    Mark P. O. Morford                2002     Oxford University Press  \n",
       "1  Richard Bruce Wright                2001       HarperFlamingo Canada  \n",
       "2          Carlo D'Este                1991             HarperPerennial  \n",
       "3      Gina Bari Kolata                1999        Farrar Straus Giroux  \n",
       "4       E. J. W. Barber                1999  W. W. Norton &amp; Company  "
      ]
     },
     "execution_count": 6,
     "metadata": {},
     "output_type": "execute_result"
    }
   ],
   "source": [
    "books.head()"
   ]
  },
  {
   "cell_type": "code",
   "execution_count": 7,
   "id": "c86fb336",
   "metadata": {
    "execution": {
     "iopub.execute_input": "2023-01-17T15:40:07.859748Z",
     "iopub.status.busy": "2023-01-17T15:40:07.858845Z",
     "iopub.status.idle": "2023-01-17T15:40:07.870536Z",
     "shell.execute_reply": "2023-01-17T15:40:07.869394Z"
    },
    "papermill": {
     "duration": 0.026631,
     "end_time": "2023-01-17T15:40:07.873242",
     "exception": false,
     "start_time": "2023-01-17T15:40:07.846611",
     "status": "completed"
    },
    "tags": []
   },
   "outputs": [
    {
     "data": {
      "text/html": [
       "<div>\n",
       "<style scoped>\n",
       "    .dataframe tbody tr th:only-of-type {\n",
       "        vertical-align: middle;\n",
       "    }\n",
       "\n",
       "    .dataframe tbody tr th {\n",
       "        vertical-align: top;\n",
       "    }\n",
       "\n",
       "    .dataframe thead th {\n",
       "        text-align: right;\n",
       "    }\n",
       "</style>\n",
       "<table border=\"1\" class=\"dataframe\">\n",
       "  <thead>\n",
       "    <tr style=\"text-align: right;\">\n",
       "      <th></th>\n",
       "      <th>User-ID</th>\n",
       "      <th>Location</th>\n",
       "      <th>Age</th>\n",
       "    </tr>\n",
       "  </thead>\n",
       "  <tbody>\n",
       "    <tr>\n",
       "      <th>0</th>\n",
       "      <td>1</td>\n",
       "      <td>nyc, new york, usa</td>\n",
       "      <td>NaN</td>\n",
       "    </tr>\n",
       "    <tr>\n",
       "      <th>1</th>\n",
       "      <td>2</td>\n",
       "      <td>stockton, california, usa</td>\n",
       "      <td>18.0</td>\n",
       "    </tr>\n",
       "    <tr>\n",
       "      <th>2</th>\n",
       "      <td>3</td>\n",
       "      <td>moscow, yukon territory, russia</td>\n",
       "      <td>NaN</td>\n",
       "    </tr>\n",
       "    <tr>\n",
       "      <th>3</th>\n",
       "      <td>4</td>\n",
       "      <td>porto, v.n.gaia, portugal</td>\n",
       "      <td>17.0</td>\n",
       "    </tr>\n",
       "    <tr>\n",
       "      <th>4</th>\n",
       "      <td>5</td>\n",
       "      <td>farnborough, hants, united kingdom</td>\n",
       "      <td>NaN</td>\n",
       "    </tr>\n",
       "  </tbody>\n",
       "</table>\n",
       "</div>"
      ],
      "text/plain": [
       "   User-ID                            Location   Age\n",
       "0        1                  nyc, new york, usa   NaN\n",
       "1        2           stockton, california, usa  18.0\n",
       "2        3     moscow, yukon territory, russia   NaN\n",
       "3        4           porto, v.n.gaia, portugal  17.0\n",
       "4        5  farnborough, hants, united kingdom   NaN"
      ]
     },
     "execution_count": 7,
     "metadata": {},
     "output_type": "execute_result"
    }
   ],
   "source": [
    "users.head()"
   ]
  },
  {
   "cell_type": "code",
   "execution_count": 8,
   "id": "ac6b3c38",
   "metadata": {
    "execution": {
     "iopub.execute_input": "2023-01-17T15:40:07.897273Z",
     "iopub.status.busy": "2023-01-17T15:40:07.896858Z",
     "iopub.status.idle": "2023-01-17T15:40:07.908274Z",
     "shell.execute_reply": "2023-01-17T15:40:07.907036Z"
    },
    "papermill": {
     "duration": 0.026685,
     "end_time": "2023-01-17T15:40:07.910782",
     "exception": false,
     "start_time": "2023-01-17T15:40:07.884097",
     "status": "completed"
    },
    "tags": []
   },
   "outputs": [
    {
     "data": {
      "text/html": [
       "<div>\n",
       "<style scoped>\n",
       "    .dataframe tbody tr th:only-of-type {\n",
       "        vertical-align: middle;\n",
       "    }\n",
       "\n",
       "    .dataframe tbody tr th {\n",
       "        vertical-align: top;\n",
       "    }\n",
       "\n",
       "    .dataframe thead th {\n",
       "        text-align: right;\n",
       "    }\n",
       "</style>\n",
       "<table border=\"1\" class=\"dataframe\">\n",
       "  <thead>\n",
       "    <tr style=\"text-align: right;\">\n",
       "      <th></th>\n",
       "      <th>User-ID</th>\n",
       "      <th>ISBN</th>\n",
       "      <th>Book-Rating</th>\n",
       "    </tr>\n",
       "  </thead>\n",
       "  <tbody>\n",
       "    <tr>\n",
       "      <th>0</th>\n",
       "      <td>276725</td>\n",
       "      <td>034545104X</td>\n",
       "      <td>0</td>\n",
       "    </tr>\n",
       "    <tr>\n",
       "      <th>1</th>\n",
       "      <td>276726</td>\n",
       "      <td>0155061224</td>\n",
       "      <td>5</td>\n",
       "    </tr>\n",
       "    <tr>\n",
       "      <th>2</th>\n",
       "      <td>276727</td>\n",
       "      <td>0446520802</td>\n",
       "      <td>0</td>\n",
       "    </tr>\n",
       "    <tr>\n",
       "      <th>3</th>\n",
       "      <td>276729</td>\n",
       "      <td>052165615X</td>\n",
       "      <td>3</td>\n",
       "    </tr>\n",
       "    <tr>\n",
       "      <th>4</th>\n",
       "      <td>276729</td>\n",
       "      <td>0521795028</td>\n",
       "      <td>6</td>\n",
       "    </tr>\n",
       "  </tbody>\n",
       "</table>\n",
       "</div>"
      ],
      "text/plain": [
       "   User-ID        ISBN  Book-Rating\n",
       "0   276725  034545104X            0\n",
       "1   276726  0155061224            5\n",
       "2   276727  0446520802            0\n",
       "3   276729  052165615X            3\n",
       "4   276729  0521795028            6"
      ]
     },
     "execution_count": 8,
     "metadata": {},
     "output_type": "execute_result"
    }
   ],
   "source": [
    "ratings.head()"
   ]
  },
  {
   "cell_type": "code",
   "execution_count": 9,
   "id": "4d4dd55a",
   "metadata": {
    "execution": {
     "iopub.execute_input": "2023-01-17T15:40:07.934579Z",
     "iopub.status.busy": "2023-01-17T15:40:07.934175Z",
     "iopub.status.idle": "2023-01-17T15:40:08.125548Z",
     "shell.execute_reply": "2023-01-17T15:40:08.124429Z"
    },
    "papermill": {
     "duration": 0.206491,
     "end_time": "2023-01-17T15:40:08.128265",
     "exception": false,
     "start_time": "2023-01-17T15:40:07.921774",
     "status": "completed"
    },
    "tags": []
   },
   "outputs": [],
   "source": [
    "#Groupby to see which user has rated how many books\n",
    "user_rating_count = ratings.groupby('User-ID').count().sort_values(by = 'ISBN', ascending = False)"
   ]
  },
  {
   "cell_type": "code",
   "execution_count": 10,
   "id": "dbb6824c",
   "metadata": {
    "execution": {
     "iopub.execute_input": "2023-01-17T15:40:08.152907Z",
     "iopub.status.busy": "2023-01-17T15:40:08.152528Z",
     "iopub.status.idle": "2023-01-17T15:40:08.159144Z",
     "shell.execute_reply": "2023-01-17T15:40:08.157984Z"
    },
    "papermill": {
     "duration": 0.022363,
     "end_time": "2023-01-17T15:40:08.161497",
     "exception": false,
     "start_time": "2023-01-17T15:40:08.139134",
     "status": "completed"
    },
    "tags": []
   },
   "outputs": [
    {
     "data": {
      "text/plain": [
       "(105283, 2)"
      ]
     },
     "execution_count": 10,
     "metadata": {},
     "output_type": "execute_result"
    }
   ],
   "source": [
    "user_rating_count.shape"
   ]
  },
  {
   "cell_type": "code",
   "execution_count": 11,
   "id": "5daaee20",
   "metadata": {
    "execution": {
     "iopub.execute_input": "2023-01-17T15:40:08.184952Z",
     "iopub.status.busy": "2023-01-17T15:40:08.184542Z",
     "iopub.status.idle": "2023-01-17T15:40:08.192517Z",
     "shell.execute_reply": "2023-01-17T15:40:08.191274Z"
    },
    "papermill": {
     "duration": 0.022318,
     "end_time": "2023-01-17T15:40:08.194793",
     "exception": false,
     "start_time": "2023-01-17T15:40:08.172475",
     "status": "completed"
    },
    "tags": []
   },
   "outputs": [],
   "source": [
    "#keep only those users who have given ratings to more than 100 books)\n",
    "user_rating_count = user_rating_count[user_rating_count['ISBN']>100]"
   ]
  },
  {
   "cell_type": "code",
   "execution_count": 12,
   "id": "17f98b06",
   "metadata": {
    "execution": {
     "iopub.execute_input": "2023-01-17T15:40:08.218588Z",
     "iopub.status.busy": "2023-01-17T15:40:08.217631Z",
     "iopub.status.idle": "2023-01-17T15:40:08.225180Z",
     "shell.execute_reply": "2023-01-17T15:40:08.224011Z"
    },
    "papermill": {
     "duration": 0.021784,
     "end_time": "2023-01-17T15:40:08.227532",
     "exception": false,
     "start_time": "2023-01-17T15:40:08.205748",
     "status": "completed"
    },
    "tags": []
   },
   "outputs": [
    {
     "data": {
      "text/plain": [
       "(1825, 2)"
      ]
     },
     "execution_count": 12,
     "metadata": {},
     "output_type": "execute_result"
    }
   ],
   "source": [
    "user_rating_count.shape"
   ]
  },
  {
   "cell_type": "code",
   "execution_count": 13,
   "id": "2f5c705a",
   "metadata": {
    "execution": {
     "iopub.execute_input": "2023-01-17T15:40:08.251467Z",
     "iopub.status.busy": "2023-01-17T15:40:08.250645Z",
     "iopub.status.idle": "2023-01-17T15:40:09.067054Z",
     "shell.execute_reply": "2023-01-17T15:40:09.065864Z"
    },
    "papermill": {
     "duration": 0.83152,
     "end_time": "2023-01-17T15:40:09.070006",
     "exception": false,
     "start_time": "2023-01-17T15:40:08.238486",
     "status": "completed"
    },
    "tags": []
   },
   "outputs": [],
   "source": [
    "#Get counts of the ratings for each book\n",
    "book_rating_count = ratings.groupby('ISBN').count().sort_values(by = 'Book-Rating', ascending = False)"
   ]
  },
  {
   "cell_type": "code",
   "execution_count": 14,
   "id": "d13db82b",
   "metadata": {
    "execution": {
     "iopub.execute_input": "2023-01-17T15:40:09.093227Z",
     "iopub.status.busy": "2023-01-17T15:40:09.092813Z",
     "iopub.status.idle": "2023-01-17T15:40:09.103347Z",
     "shell.execute_reply": "2023-01-17T15:40:09.102251Z"
    },
    "papermill": {
     "duration": 0.024932,
     "end_time": "2023-01-17T15:40:09.105721",
     "exception": false,
     "start_time": "2023-01-17T15:40:09.080789",
     "status": "completed"
    },
    "tags": []
   },
   "outputs": [
    {
     "data": {
      "text/html": [
       "<div>\n",
       "<style scoped>\n",
       "    .dataframe tbody tr th:only-of-type {\n",
       "        vertical-align: middle;\n",
       "    }\n",
       "\n",
       "    .dataframe tbody tr th {\n",
       "        vertical-align: top;\n",
       "    }\n",
       "\n",
       "    .dataframe thead th {\n",
       "        text-align: right;\n",
       "    }\n",
       "</style>\n",
       "<table border=\"1\" class=\"dataframe\">\n",
       "  <thead>\n",
       "    <tr style=\"text-align: right;\">\n",
       "      <th></th>\n",
       "      <th>User-ID</th>\n",
       "      <th>Book-Rating</th>\n",
       "    </tr>\n",
       "    <tr>\n",
       "      <th>ISBN</th>\n",
       "      <th></th>\n",
       "      <th></th>\n",
       "    </tr>\n",
       "  </thead>\n",
       "  <tbody>\n",
       "    <tr>\n",
       "      <th>0971880107</th>\n",
       "      <td>2502</td>\n",
       "      <td>2502</td>\n",
       "    </tr>\n",
       "    <tr>\n",
       "      <th>0316666343</th>\n",
       "      <td>1295</td>\n",
       "      <td>1295</td>\n",
       "    </tr>\n",
       "    <tr>\n",
       "      <th>0385504209</th>\n",
       "      <td>883</td>\n",
       "      <td>883</td>\n",
       "    </tr>\n",
       "    <tr>\n",
       "      <th>0060928336</th>\n",
       "      <td>732</td>\n",
       "      <td>732</td>\n",
       "    </tr>\n",
       "    <tr>\n",
       "      <th>0312195516</th>\n",
       "      <td>723</td>\n",
       "      <td>723</td>\n",
       "    </tr>\n",
       "    <tr>\n",
       "      <th>044023722X</th>\n",
       "      <td>647</td>\n",
       "      <td>647</td>\n",
       "    </tr>\n",
       "    <tr>\n",
       "      <th>0679781587</th>\n",
       "      <td>639</td>\n",
       "      <td>639</td>\n",
       "    </tr>\n",
       "    <tr>\n",
       "      <th>0142001740</th>\n",
       "      <td>615</td>\n",
       "      <td>615</td>\n",
       "    </tr>\n",
       "    <tr>\n",
       "      <th>067976402X</th>\n",
       "      <td>614</td>\n",
       "      <td>614</td>\n",
       "    </tr>\n",
       "    <tr>\n",
       "      <th>0671027360</th>\n",
       "      <td>586</td>\n",
       "      <td>586</td>\n",
       "    </tr>\n",
       "  </tbody>\n",
       "</table>\n",
       "</div>"
      ],
      "text/plain": [
       "            User-ID  Book-Rating\n",
       "ISBN                            \n",
       "0971880107     2502         2502\n",
       "0316666343     1295         1295\n",
       "0385504209      883          883\n",
       "0060928336      732          732\n",
       "0312195516      723          723\n",
       "044023722X      647          647\n",
       "0679781587      639          639\n",
       "0142001740      615          615\n",
       "067976402X      614          614\n",
       "0671027360      586          586"
      ]
     },
     "execution_count": 14,
     "metadata": {},
     "output_type": "execute_result"
    }
   ],
   "source": [
    "book_rating_count.head(10)"
   ]
  },
  {
   "cell_type": "code",
   "execution_count": 15,
   "id": "640a515c",
   "metadata": {
    "execution": {
     "iopub.execute_input": "2023-01-17T15:40:09.129781Z",
     "iopub.status.busy": "2023-01-17T15:40:09.129004Z",
     "iopub.status.idle": "2023-01-17T15:40:09.135907Z",
     "shell.execute_reply": "2023-01-17T15:40:09.134965Z"
    },
    "papermill": {
     "duration": 0.021482,
     "end_time": "2023-01-17T15:40:09.138078",
     "exception": false,
     "start_time": "2023-01-17T15:40:09.116596",
     "status": "completed"
    },
    "tags": []
   },
   "outputs": [],
   "source": [
    "#only keep books with more than 50 ratings\n",
    "book_rating_count = book_rating_count[book_rating_count['User-ID'] > 50]"
   ]
  },
  {
   "cell_type": "code",
   "execution_count": 16,
   "id": "d537eac7",
   "metadata": {
    "execution": {
     "iopub.execute_input": "2023-01-17T15:40:09.162509Z",
     "iopub.status.busy": "2023-01-17T15:40:09.161867Z",
     "iopub.status.idle": "2023-01-17T15:40:09.979810Z",
     "shell.execute_reply": "2023-01-17T15:40:09.978474Z"
    },
    "papermill": {
     "duration": 0.833493,
     "end_time": "2023-01-17T15:40:09.982555",
     "exception": false,
     "start_time": "2023-01-17T15:40:09.149062",
     "status": "completed"
    },
    "tags": []
   },
   "outputs": [],
   "source": [
    "ratings = ratings.merge(books, on = 'ISBN')"
   ]
  },
  {
   "cell_type": "code",
   "execution_count": 17,
   "id": "2dc0a9fb",
   "metadata": {
    "execution": {
     "iopub.execute_input": "2023-01-17T15:40:10.005938Z",
     "iopub.status.busy": "2023-01-17T15:40:10.005569Z",
     "iopub.status.idle": "2023-01-17T15:40:10.018892Z",
     "shell.execute_reply": "2023-01-17T15:40:10.017753Z"
    },
    "papermill": {
     "duration": 0.02744,
     "end_time": "2023-01-17T15:40:10.021095",
     "exception": false,
     "start_time": "2023-01-17T15:40:09.993655",
     "status": "completed"
    },
    "tags": []
   },
   "outputs": [
    {
     "data": {
      "text/html": [
       "<div>\n",
       "<style scoped>\n",
       "    .dataframe tbody tr th:only-of-type {\n",
       "        vertical-align: middle;\n",
       "    }\n",
       "\n",
       "    .dataframe tbody tr th {\n",
       "        vertical-align: top;\n",
       "    }\n",
       "\n",
       "    .dataframe thead th {\n",
       "        text-align: right;\n",
       "    }\n",
       "</style>\n",
       "<table border=\"1\" class=\"dataframe\">\n",
       "  <thead>\n",
       "    <tr style=\"text-align: right;\">\n",
       "      <th></th>\n",
       "      <th>User-ID</th>\n",
       "      <th>ISBN</th>\n",
       "      <th>Book-Rating</th>\n",
       "      <th>Book-Title</th>\n",
       "      <th>Book-Author</th>\n",
       "      <th>Year-Of-Publication</th>\n",
       "      <th>Publisher</th>\n",
       "    </tr>\n",
       "  </thead>\n",
       "  <tbody>\n",
       "    <tr>\n",
       "      <th>0</th>\n",
       "      <td>276725</td>\n",
       "      <td>034545104X</td>\n",
       "      <td>0</td>\n",
       "      <td>Flesh Tones: A Novel</td>\n",
       "      <td>M. J. Rose</td>\n",
       "      <td>2002</td>\n",
       "      <td>Ballantine Books</td>\n",
       "    </tr>\n",
       "    <tr>\n",
       "      <th>1</th>\n",
       "      <td>2313</td>\n",
       "      <td>034545104X</td>\n",
       "      <td>5</td>\n",
       "      <td>Flesh Tones: A Novel</td>\n",
       "      <td>M. J. Rose</td>\n",
       "      <td>2002</td>\n",
       "      <td>Ballantine Books</td>\n",
       "    </tr>\n",
       "    <tr>\n",
       "      <th>2</th>\n",
       "      <td>6543</td>\n",
       "      <td>034545104X</td>\n",
       "      <td>0</td>\n",
       "      <td>Flesh Tones: A Novel</td>\n",
       "      <td>M. J. Rose</td>\n",
       "      <td>2002</td>\n",
       "      <td>Ballantine Books</td>\n",
       "    </tr>\n",
       "    <tr>\n",
       "      <th>3</th>\n",
       "      <td>8680</td>\n",
       "      <td>034545104X</td>\n",
       "      <td>5</td>\n",
       "      <td>Flesh Tones: A Novel</td>\n",
       "      <td>M. J. Rose</td>\n",
       "      <td>2002</td>\n",
       "      <td>Ballantine Books</td>\n",
       "    </tr>\n",
       "    <tr>\n",
       "      <th>4</th>\n",
       "      <td>10314</td>\n",
       "      <td>034545104X</td>\n",
       "      <td>9</td>\n",
       "      <td>Flesh Tones: A Novel</td>\n",
       "      <td>M. J. Rose</td>\n",
       "      <td>2002</td>\n",
       "      <td>Ballantine Books</td>\n",
       "    </tr>\n",
       "  </tbody>\n",
       "</table>\n",
       "</div>"
      ],
      "text/plain": [
       "   User-ID        ISBN  Book-Rating            Book-Title Book-Author  \\\n",
       "0   276725  034545104X            0  Flesh Tones: A Novel  M. J. Rose   \n",
       "1     2313  034545104X            5  Flesh Tones: A Novel  M. J. Rose   \n",
       "2     6543  034545104X            0  Flesh Tones: A Novel  M. J. Rose   \n",
       "3     8680  034545104X            5  Flesh Tones: A Novel  M. J. Rose   \n",
       "4    10314  034545104X            9  Flesh Tones: A Novel  M. J. Rose   \n",
       "\n",
       "  Year-Of-Publication         Publisher  \n",
       "0                2002  Ballantine Books  \n",
       "1                2002  Ballantine Books  \n",
       "2                2002  Ballantine Books  \n",
       "3                2002  Ballantine Books  \n",
       "4                2002  Ballantine Books  "
      ]
     },
     "execution_count": 17,
     "metadata": {},
     "output_type": "execute_result"
    }
   ],
   "source": [
    "ratings.head()"
   ]
  },
  {
   "cell_type": "code",
   "execution_count": 18,
   "id": "27d6c3f7",
   "metadata": {
    "execution": {
     "iopub.execute_input": "2023-01-17T15:40:10.046191Z",
     "iopub.status.busy": "2023-01-17T15:40:10.045814Z",
     "iopub.status.idle": "2023-01-17T15:40:10.052580Z",
     "shell.execute_reply": "2023-01-17T15:40:10.051578Z"
    },
    "papermill": {
     "duration": 0.0223,
     "end_time": "2023-01-17T15:40:10.055028",
     "exception": false,
     "start_time": "2023-01-17T15:40:10.032728",
     "status": "completed"
    },
    "tags": []
   },
   "outputs": [
    {
     "data": {
      "text/plain": [
       "(1031136, 7)"
      ]
     },
     "execution_count": 18,
     "metadata": {},
     "output_type": "execute_result"
    }
   ],
   "source": [
    "ratings.shape"
   ]
  },
  {
   "cell_type": "code",
   "execution_count": 19,
   "id": "8c2c500b",
   "metadata": {
    "execution": {
     "iopub.execute_input": "2023-01-17T15:40:10.079992Z",
     "iopub.status.busy": "2023-01-17T15:40:10.079231Z",
     "iopub.status.idle": "2023-01-17T15:40:10.453861Z",
     "shell.execute_reply": "2023-01-17T15:40:10.452766Z"
    },
    "papermill": {
     "duration": 0.38981,
     "end_time": "2023-01-17T15:40:10.456577",
     "exception": false,
     "start_time": "2023-01-17T15:40:10.066767",
     "status": "completed"
    },
    "tags": []
   },
   "outputs": [],
   "source": [
    "ratings = ratings[ratings['User-ID'].isin(user_rating_count.index)]"
   ]
  },
  {
   "cell_type": "code",
   "execution_count": 20,
   "id": "7d45fbdd",
   "metadata": {
    "execution": {
     "iopub.execute_input": "2023-01-17T15:40:10.481003Z",
     "iopub.status.busy": "2023-01-17T15:40:10.480631Z",
     "iopub.status.idle": "2023-01-17T15:40:10.487040Z",
     "shell.execute_reply": "2023-01-17T15:40:10.485984Z"
    },
    "papermill": {
     "duration": 0.02158,
     "end_time": "2023-01-17T15:40:10.489519",
     "exception": false,
     "start_time": "2023-01-17T15:40:10.467939",
     "status": "completed"
    },
    "tags": []
   },
   "outputs": [
    {
     "data": {
      "text/plain": [
       "(604854, 7)"
      ]
     },
     "execution_count": 20,
     "metadata": {},
     "output_type": "execute_result"
    }
   ],
   "source": [
    "ratings.shape"
   ]
  },
  {
   "cell_type": "code",
   "execution_count": 21,
   "id": "9c9907f1",
   "metadata": {
    "execution": {
     "iopub.execute_input": "2023-01-17T15:40:10.515101Z",
     "iopub.status.busy": "2023-01-17T15:40:10.514064Z",
     "iopub.status.idle": "2023-01-17T15:40:10.600704Z",
     "shell.execute_reply": "2023-01-17T15:40:10.599694Z"
    },
    "papermill": {
     "duration": 0.10193,
     "end_time": "2023-01-17T15:40:10.603257",
     "exception": false,
     "start_time": "2023-01-17T15:40:10.501327",
     "status": "completed"
    },
    "tags": []
   },
   "outputs": [],
   "source": [
    "ratings = ratings[ratings['ISBN'].isin(book_rating_count.index)]"
   ]
  },
  {
   "cell_type": "code",
   "execution_count": 22,
   "id": "5d82c510",
   "metadata": {
    "execution": {
     "iopub.execute_input": "2023-01-17T15:40:10.628053Z",
     "iopub.status.busy": "2023-01-17T15:40:10.627605Z",
     "iopub.status.idle": "2023-01-17T15:40:10.634471Z",
     "shell.execute_reply": "2023-01-17T15:40:10.633343Z"
    },
    "papermill": {
     "duration": 0.021915,
     "end_time": "2023-01-17T15:40:10.636709",
     "exception": false,
     "start_time": "2023-01-17T15:40:10.614794",
     "status": "completed"
    },
    "tags": []
   },
   "outputs": [
    {
     "data": {
      "text/plain": [
       "(116873, 7)"
      ]
     },
     "execution_count": 22,
     "metadata": {},
     "output_type": "execute_result"
    }
   ],
   "source": [
    "ratings.shape"
   ]
  },
  {
   "cell_type": "code",
   "execution_count": 23,
   "id": "249d411f",
   "metadata": {
    "execution": {
     "iopub.execute_input": "2023-01-17T15:40:10.662792Z",
     "iopub.status.busy": "2023-01-17T15:40:10.662369Z",
     "iopub.status.idle": "2023-01-17T15:40:10.675248Z",
     "shell.execute_reply": "2023-01-17T15:40:10.674253Z"
    },
    "papermill": {
     "duration": 0.028964,
     "end_time": "2023-01-17T15:40:10.677814",
     "exception": false,
     "start_time": "2023-01-17T15:40:10.648850",
     "status": "completed"
    },
    "tags": []
   },
   "outputs": [
    {
     "data": {
      "text/html": [
       "<div>\n",
       "<style scoped>\n",
       "    .dataframe tbody tr th:only-of-type {\n",
       "        vertical-align: middle;\n",
       "    }\n",
       "\n",
       "    .dataframe tbody tr th {\n",
       "        vertical-align: top;\n",
       "    }\n",
       "\n",
       "    .dataframe thead th {\n",
       "        text-align: right;\n",
       "    }\n",
       "</style>\n",
       "<table border=\"1\" class=\"dataframe\">\n",
       "  <thead>\n",
       "    <tr style=\"text-align: right;\">\n",
       "      <th></th>\n",
       "      <th>User-ID</th>\n",
       "      <th>ISBN</th>\n",
       "      <th>Book-Rating</th>\n",
       "      <th>Book-Title</th>\n",
       "      <th>Book-Author</th>\n",
       "      <th>Year-Of-Publication</th>\n",
       "      <th>Publisher</th>\n",
       "    </tr>\n",
       "  </thead>\n",
       "  <tbody>\n",
       "    <tr>\n",
       "      <th>2</th>\n",
       "      <td>6543</td>\n",
       "      <td>034545104X</td>\n",
       "      <td>0</td>\n",
       "      <td>Flesh Tones: A Novel</td>\n",
       "      <td>M. J. Rose</td>\n",
       "      <td>2002</td>\n",
       "      <td>Ballantine Books</td>\n",
       "    </tr>\n",
       "    <tr>\n",
       "      <th>4</th>\n",
       "      <td>10314</td>\n",
       "      <td>034545104X</td>\n",
       "      <td>9</td>\n",
       "      <td>Flesh Tones: A Novel</td>\n",
       "      <td>M. J. Rose</td>\n",
       "      <td>2002</td>\n",
       "      <td>Ballantine Books</td>\n",
       "    </tr>\n",
       "    <tr>\n",
       "      <th>5</th>\n",
       "      <td>23768</td>\n",
       "      <td>034545104X</td>\n",
       "      <td>0</td>\n",
       "      <td>Flesh Tones: A Novel</td>\n",
       "      <td>M. J. Rose</td>\n",
       "      <td>2002</td>\n",
       "      <td>Ballantine Books</td>\n",
       "    </tr>\n",
       "    <tr>\n",
       "      <th>7</th>\n",
       "      <td>28523</td>\n",
       "      <td>034545104X</td>\n",
       "      <td>0</td>\n",
       "      <td>Flesh Tones: A Novel</td>\n",
       "      <td>M. J. Rose</td>\n",
       "      <td>2002</td>\n",
       "      <td>Ballantine Books</td>\n",
       "    </tr>\n",
       "    <tr>\n",
       "      <th>14</th>\n",
       "      <td>77480</td>\n",
       "      <td>034545104X</td>\n",
       "      <td>8</td>\n",
       "      <td>Flesh Tones: A Novel</td>\n",
       "      <td>M. J. Rose</td>\n",
       "      <td>2002</td>\n",
       "      <td>Ballantine Books</td>\n",
       "    </tr>\n",
       "  </tbody>\n",
       "</table>\n",
       "</div>"
      ],
      "text/plain": [
       "    User-ID        ISBN  Book-Rating            Book-Title Book-Author  \\\n",
       "2      6543  034545104X            0  Flesh Tones: A Novel  M. J. Rose   \n",
       "4     10314  034545104X            9  Flesh Tones: A Novel  M. J. Rose   \n",
       "5     23768  034545104X            0  Flesh Tones: A Novel  M. J. Rose   \n",
       "7     28523  034545104X            0  Flesh Tones: A Novel  M. J. Rose   \n",
       "14    77480  034545104X            8  Flesh Tones: A Novel  M. J. Rose   \n",
       "\n",
       "   Year-Of-Publication         Publisher  \n",
       "2                 2002  Ballantine Books  \n",
       "4                 2002  Ballantine Books  \n",
       "5                 2002  Ballantine Books  \n",
       "7                 2002  Ballantine Books  \n",
       "14                2002  Ballantine Books  "
      ]
     },
     "execution_count": 23,
     "metadata": {},
     "output_type": "execute_result"
    }
   ],
   "source": [
    "ratings.head()"
   ]
  },
  {
   "cell_type": "code",
   "execution_count": 24,
   "id": "d3066c4f",
   "metadata": {
    "execution": {
     "iopub.execute_input": "2023-01-17T15:40:10.703692Z",
     "iopub.status.busy": "2023-01-17T15:40:10.703304Z",
     "iopub.status.idle": "2023-01-17T15:40:10.875604Z",
     "shell.execute_reply": "2023-01-17T15:40:10.874373Z"
    },
    "papermill": {
     "duration": 0.188494,
     "end_time": "2023-01-17T15:40:10.878208",
     "exception": false,
     "start_time": "2023-01-17T15:40:10.689714",
     "status": "completed"
    },
    "tags": []
   },
   "outputs": [],
   "source": [
    "piv_table = ratings.pivot_table(columns = \"User-ID\", index = \"ISBN\", values = \"Book-Rating\")"
   ]
  },
  {
   "cell_type": "code",
   "execution_count": 25,
   "id": "366df474",
   "metadata": {
    "execution": {
     "iopub.execute_input": "2023-01-17T15:40:10.904233Z",
     "iopub.status.busy": "2023-01-17T15:40:10.903460Z",
     "iopub.status.idle": "2023-01-17T15:40:10.910256Z",
     "shell.execute_reply": "2023-01-17T15:40:10.909243Z"
    },
    "papermill": {
     "duration": 0.022228,
     "end_time": "2023-01-17T15:40:10.912596",
     "exception": false,
     "start_time": "2023-01-17T15:40:10.890368",
     "status": "completed"
    },
    "tags": []
   },
   "outputs": [
    {
     "data": {
      "text/plain": [
       "(2101, 1793)"
      ]
     },
     "execution_count": 25,
     "metadata": {},
     "output_type": "execute_result"
    }
   ],
   "source": [
    "piv_table.shape"
   ]
  },
  {
   "cell_type": "markdown",
   "id": "b0896960",
   "metadata": {
    "papermill": {
     "duration": 0.011583,
     "end_time": "2023-01-17T15:40:10.936255",
     "exception": false,
     "start_time": "2023-01-17T15:40:10.924672",
     "status": "completed"
    },
    "tags": []
   },
   "source": [
    "So we have 2101 books and 1792 users.\n"
   ]
  },
  {
   "cell_type": "code",
   "execution_count": 26,
   "id": "511f0271",
   "metadata": {
    "execution": {
     "iopub.execute_input": "2023-01-17T15:40:10.961751Z",
     "iopub.status.busy": "2023-01-17T15:40:10.961336Z",
     "iopub.status.idle": "2023-01-17T15:40:10.992885Z",
     "shell.execute_reply": "2023-01-17T15:40:10.991988Z"
    },
    "papermill": {
     "duration": 0.046843,
     "end_time": "2023-01-17T15:40:10.994941",
     "exception": false,
     "start_time": "2023-01-17T15:40:10.948098",
     "status": "completed"
    },
    "tags": []
   },
   "outputs": [
    {
     "data": {
      "text/html": [
       "<div>\n",
       "<style scoped>\n",
       "    .dataframe tbody tr th:only-of-type {\n",
       "        vertical-align: middle;\n",
       "    }\n",
       "\n",
       "    .dataframe tbody tr th {\n",
       "        vertical-align: top;\n",
       "    }\n",
       "\n",
       "    .dataframe thead th {\n",
       "        text-align: right;\n",
       "    }\n",
       "</style>\n",
       "<table border=\"1\" class=\"dataframe\">\n",
       "  <thead>\n",
       "    <tr style=\"text-align: right;\">\n",
       "      <th>User-ID</th>\n",
       "      <th>254</th>\n",
       "      <th>507</th>\n",
       "      <th>882</th>\n",
       "      <th>1424</th>\n",
       "      <th>1435</th>\n",
       "      <th>1733</th>\n",
       "      <th>1903</th>\n",
       "      <th>2033</th>\n",
       "      <th>2110</th>\n",
       "      <th>2276</th>\n",
       "      <th>...</th>\n",
       "      <th>16161</th>\n",
       "      <th>16413</th>\n",
       "      <th>16488</th>\n",
       "      <th>16601</th>\n",
       "      <th>16634</th>\n",
       "      <th>16721</th>\n",
       "      <th>16795</th>\n",
       "      <th>16916</th>\n",
       "      <th>16943</th>\n",
       "      <th>16966</th>\n",
       "    </tr>\n",
       "    <tr>\n",
       "      <th>ISBN</th>\n",
       "      <th></th>\n",
       "      <th></th>\n",
       "      <th></th>\n",
       "      <th></th>\n",
       "      <th></th>\n",
       "      <th></th>\n",
       "      <th></th>\n",
       "      <th></th>\n",
       "      <th></th>\n",
       "      <th></th>\n",
       "      <th></th>\n",
       "      <th></th>\n",
       "      <th></th>\n",
       "      <th></th>\n",
       "      <th></th>\n",
       "      <th></th>\n",
       "      <th></th>\n",
       "      <th></th>\n",
       "      <th></th>\n",
       "      <th></th>\n",
       "      <th></th>\n",
       "    </tr>\n",
       "  </thead>\n",
       "  <tbody>\n",
       "    <tr>\n",
       "      <th>000649840X</th>\n",
       "      <td>NaN</td>\n",
       "      <td>NaN</td>\n",
       "      <td>NaN</td>\n",
       "      <td>NaN</td>\n",
       "      <td>NaN</td>\n",
       "      <td>NaN</td>\n",
       "      <td>NaN</td>\n",
       "      <td>NaN</td>\n",
       "      <td>NaN</td>\n",
       "      <td>NaN</td>\n",
       "      <td>...</td>\n",
       "      <td>NaN</td>\n",
       "      <td>NaN</td>\n",
       "      <td>NaN</td>\n",
       "      <td>NaN</td>\n",
       "      <td>NaN</td>\n",
       "      <td>NaN</td>\n",
       "      <td>NaN</td>\n",
       "      <td>NaN</td>\n",
       "      <td>NaN</td>\n",
       "      <td>NaN</td>\n",
       "    </tr>\n",
       "    <tr>\n",
       "      <th>002026478X</th>\n",
       "      <td>NaN</td>\n",
       "      <td>NaN</td>\n",
       "      <td>NaN</td>\n",
       "      <td>NaN</td>\n",
       "      <td>NaN</td>\n",
       "      <td>NaN</td>\n",
       "      <td>NaN</td>\n",
       "      <td>NaN</td>\n",
       "      <td>NaN</td>\n",
       "      <td>NaN</td>\n",
       "      <td>...</td>\n",
       "      <td>NaN</td>\n",
       "      <td>NaN</td>\n",
       "      <td>0.0</td>\n",
       "      <td>NaN</td>\n",
       "      <td>NaN</td>\n",
       "      <td>NaN</td>\n",
       "      <td>NaN</td>\n",
       "      <td>NaN</td>\n",
       "      <td>NaN</td>\n",
       "      <td>NaN</td>\n",
       "    </tr>\n",
       "    <tr>\n",
       "      <th>0020442203</th>\n",
       "      <td>NaN</td>\n",
       "      <td>NaN</td>\n",
       "      <td>NaN</td>\n",
       "      <td>NaN</td>\n",
       "      <td>NaN</td>\n",
       "      <td>NaN</td>\n",
       "      <td>NaN</td>\n",
       "      <td>NaN</td>\n",
       "      <td>NaN</td>\n",
       "      <td>NaN</td>\n",
       "      <td>...</td>\n",
       "      <td>NaN</td>\n",
       "      <td>NaN</td>\n",
       "      <td>NaN</td>\n",
       "      <td>NaN</td>\n",
       "      <td>9.0</td>\n",
       "      <td>NaN</td>\n",
       "      <td>NaN</td>\n",
       "      <td>NaN</td>\n",
       "      <td>NaN</td>\n",
       "      <td>NaN</td>\n",
       "    </tr>\n",
       "    <tr>\n",
       "      <th>002542730X</th>\n",
       "      <td>NaN</td>\n",
       "      <td>NaN</td>\n",
       "      <td>NaN</td>\n",
       "      <td>NaN</td>\n",
       "      <td>NaN</td>\n",
       "      <td>NaN</td>\n",
       "      <td>NaN</td>\n",
       "      <td>NaN</td>\n",
       "      <td>NaN</td>\n",
       "      <td>NaN</td>\n",
       "      <td>...</td>\n",
       "      <td>NaN</td>\n",
       "      <td>NaN</td>\n",
       "      <td>NaN</td>\n",
       "      <td>NaN</td>\n",
       "      <td>NaN</td>\n",
       "      <td>NaN</td>\n",
       "      <td>0.0</td>\n",
       "      <td>NaN</td>\n",
       "      <td>NaN</td>\n",
       "      <td>NaN</td>\n",
       "    </tr>\n",
       "    <tr>\n",
       "      <th>0028604199</th>\n",
       "      <td>NaN</td>\n",
       "      <td>NaN</td>\n",
       "      <td>NaN</td>\n",
       "      <td>NaN</td>\n",
       "      <td>NaN</td>\n",
       "      <td>NaN</td>\n",
       "      <td>NaN</td>\n",
       "      <td>NaN</td>\n",
       "      <td>NaN</td>\n",
       "      <td>NaN</td>\n",
       "      <td>...</td>\n",
       "      <td>NaN</td>\n",
       "      <td>NaN</td>\n",
       "      <td>NaN</td>\n",
       "      <td>NaN</td>\n",
       "      <td>NaN</td>\n",
       "      <td>NaN</td>\n",
       "      <td>NaN</td>\n",
       "      <td>NaN</td>\n",
       "      <td>NaN</td>\n",
       "      <td>NaN</td>\n",
       "    </tr>\n",
       "    <tr>\n",
       "      <th>...</th>\n",
       "      <td>...</td>\n",
       "      <td>...</td>\n",
       "      <td>...</td>\n",
       "      <td>...</td>\n",
       "      <td>...</td>\n",
       "      <td>...</td>\n",
       "      <td>...</td>\n",
       "      <td>...</td>\n",
       "      <td>...</td>\n",
       "      <td>...</td>\n",
       "      <td>...</td>\n",
       "      <td>...</td>\n",
       "      <td>...</td>\n",
       "      <td>...</td>\n",
       "      <td>...</td>\n",
       "      <td>...</td>\n",
       "      <td>...</td>\n",
       "      <td>...</td>\n",
       "      <td>...</td>\n",
       "      <td>...</td>\n",
       "      <td>...</td>\n",
       "    </tr>\n",
       "    <tr>\n",
       "      <th>0061097659</th>\n",
       "      <td>NaN</td>\n",
       "      <td>NaN</td>\n",
       "      <td>NaN</td>\n",
       "      <td>NaN</td>\n",
       "      <td>NaN</td>\n",
       "      <td>NaN</td>\n",
       "      <td>NaN</td>\n",
       "      <td>NaN</td>\n",
       "      <td>NaN</td>\n",
       "      <td>NaN</td>\n",
       "      <td>...</td>\n",
       "      <td>NaN</td>\n",
       "      <td>NaN</td>\n",
       "      <td>NaN</td>\n",
       "      <td>NaN</td>\n",
       "      <td>NaN</td>\n",
       "      <td>NaN</td>\n",
       "      <td>NaN</td>\n",
       "      <td>NaN</td>\n",
       "      <td>NaN</td>\n",
       "      <td>NaN</td>\n",
       "    </tr>\n",
       "    <tr>\n",
       "      <th>0061097853</th>\n",
       "      <td>NaN</td>\n",
       "      <td>NaN</td>\n",
       "      <td>NaN</td>\n",
       "      <td>NaN</td>\n",
       "      <td>NaN</td>\n",
       "      <td>NaN</td>\n",
       "      <td>NaN</td>\n",
       "      <td>NaN</td>\n",
       "      <td>NaN</td>\n",
       "      <td>NaN</td>\n",
       "      <td>...</td>\n",
       "      <td>NaN</td>\n",
       "      <td>NaN</td>\n",
       "      <td>NaN</td>\n",
       "      <td>NaN</td>\n",
       "      <td>NaN</td>\n",
       "      <td>NaN</td>\n",
       "      <td>NaN</td>\n",
       "      <td>NaN</td>\n",
       "      <td>NaN</td>\n",
       "      <td>NaN</td>\n",
       "    </tr>\n",
       "    <tr>\n",
       "      <th>0061097861</th>\n",
       "      <td>NaN</td>\n",
       "      <td>NaN</td>\n",
       "      <td>NaN</td>\n",
       "      <td>NaN</td>\n",
       "      <td>NaN</td>\n",
       "      <td>NaN</td>\n",
       "      <td>NaN</td>\n",
       "      <td>NaN</td>\n",
       "      <td>NaN</td>\n",
       "      <td>NaN</td>\n",
       "      <td>...</td>\n",
       "      <td>NaN</td>\n",
       "      <td>NaN</td>\n",
       "      <td>NaN</td>\n",
       "      <td>NaN</td>\n",
       "      <td>NaN</td>\n",
       "      <td>NaN</td>\n",
       "      <td>NaN</td>\n",
       "      <td>NaN</td>\n",
       "      <td>NaN</td>\n",
       "      <td>NaN</td>\n",
       "    </tr>\n",
       "    <tr>\n",
       "      <th>0061098035</th>\n",
       "      <td>NaN</td>\n",
       "      <td>NaN</td>\n",
       "      <td>NaN</td>\n",
       "      <td>NaN</td>\n",
       "      <td>NaN</td>\n",
       "      <td>NaN</td>\n",
       "      <td>NaN</td>\n",
       "      <td>NaN</td>\n",
       "      <td>NaN</td>\n",
       "      <td>NaN</td>\n",
       "      <td>...</td>\n",
       "      <td>NaN</td>\n",
       "      <td>NaN</td>\n",
       "      <td>NaN</td>\n",
       "      <td>NaN</td>\n",
       "      <td>NaN</td>\n",
       "      <td>NaN</td>\n",
       "      <td>0.0</td>\n",
       "      <td>NaN</td>\n",
       "      <td>NaN</td>\n",
       "      <td>NaN</td>\n",
       "    </tr>\n",
       "    <tr>\n",
       "      <th>0061098361</th>\n",
       "      <td>NaN</td>\n",
       "      <td>NaN</td>\n",
       "      <td>NaN</td>\n",
       "      <td>NaN</td>\n",
       "      <td>NaN</td>\n",
       "      <td>NaN</td>\n",
       "      <td>NaN</td>\n",
       "      <td>NaN</td>\n",
       "      <td>NaN</td>\n",
       "      <td>NaN</td>\n",
       "      <td>...</td>\n",
       "      <td>NaN</td>\n",
       "      <td>NaN</td>\n",
       "      <td>NaN</td>\n",
       "      <td>NaN</td>\n",
       "      <td>NaN</td>\n",
       "      <td>NaN</td>\n",
       "      <td>0.0</td>\n",
       "      <td>NaN</td>\n",
       "      <td>NaN</td>\n",
       "      <td>NaN</td>\n",
       "    </tr>\n",
       "  </tbody>\n",
       "</table>\n",
       "<p>100 rows × 100 columns</p>\n",
       "</div>"
      ],
      "text/plain": [
       "User-ID     254    507    882    1424   1435   1733   1903   2033   2110   \\\n",
       "ISBN                                                                        \n",
       "000649840X    NaN    NaN    NaN    NaN    NaN    NaN    NaN    NaN    NaN   \n",
       "002026478X    NaN    NaN    NaN    NaN    NaN    NaN    NaN    NaN    NaN   \n",
       "0020442203    NaN    NaN    NaN    NaN    NaN    NaN    NaN    NaN    NaN   \n",
       "002542730X    NaN    NaN    NaN    NaN    NaN    NaN    NaN    NaN    NaN   \n",
       "0028604199    NaN    NaN    NaN    NaN    NaN    NaN    NaN    NaN    NaN   \n",
       "...           ...    ...    ...    ...    ...    ...    ...    ...    ...   \n",
       "0061097659    NaN    NaN    NaN    NaN    NaN    NaN    NaN    NaN    NaN   \n",
       "0061097853    NaN    NaN    NaN    NaN    NaN    NaN    NaN    NaN    NaN   \n",
       "0061097861    NaN    NaN    NaN    NaN    NaN    NaN    NaN    NaN    NaN   \n",
       "0061098035    NaN    NaN    NaN    NaN    NaN    NaN    NaN    NaN    NaN   \n",
       "0061098361    NaN    NaN    NaN    NaN    NaN    NaN    NaN    NaN    NaN   \n",
       "\n",
       "User-ID     2276   ...  16161  16413  16488  16601  16634  16721  16795  \\\n",
       "ISBN               ...                                                    \n",
       "000649840X    NaN  ...    NaN    NaN    NaN    NaN    NaN    NaN    NaN   \n",
       "002026478X    NaN  ...    NaN    NaN    0.0    NaN    NaN    NaN    NaN   \n",
       "0020442203    NaN  ...    NaN    NaN    NaN    NaN    9.0    NaN    NaN   \n",
       "002542730X    NaN  ...    NaN    NaN    NaN    NaN    NaN    NaN    0.0   \n",
       "0028604199    NaN  ...    NaN    NaN    NaN    NaN    NaN    NaN    NaN   \n",
       "...           ...  ...    ...    ...    ...    ...    ...    ...    ...   \n",
       "0061097659    NaN  ...    NaN    NaN    NaN    NaN    NaN    NaN    NaN   \n",
       "0061097853    NaN  ...    NaN    NaN    NaN    NaN    NaN    NaN    NaN   \n",
       "0061097861    NaN  ...    NaN    NaN    NaN    NaN    NaN    NaN    NaN   \n",
       "0061098035    NaN  ...    NaN    NaN    NaN    NaN    NaN    NaN    0.0   \n",
       "0061098361    NaN  ...    NaN    NaN    NaN    NaN    NaN    NaN    0.0   \n",
       "\n",
       "User-ID     16916  16943  16966  \n",
       "ISBN                             \n",
       "000649840X    NaN    NaN    NaN  \n",
       "002026478X    NaN    NaN    NaN  \n",
       "0020442203    NaN    NaN    NaN  \n",
       "002542730X    NaN    NaN    NaN  \n",
       "0028604199    NaN    NaN    NaN  \n",
       "...           ...    ...    ...  \n",
       "0061097659    NaN    NaN    NaN  \n",
       "0061097853    NaN    NaN    NaN  \n",
       "0061097861    NaN    NaN    NaN  \n",
       "0061098035    NaN    NaN    NaN  \n",
       "0061098361    NaN    NaN    NaN  \n",
       "\n",
       "[100 rows x 100 columns]"
      ]
     },
     "execution_count": 26,
     "metadata": {},
     "output_type": "execute_result"
    }
   ],
   "source": [
    "piv_table.iloc[:100, :100]"
   ]
  },
  {
   "cell_type": "markdown",
   "id": "14dfa405",
   "metadata": {
    "papermill": {
     "duration": 0.011865,
     "end_time": "2023-01-17T15:40:11.019185",
     "exception": false,
     "start_time": "2023-01-17T15:40:11.007320",
     "status": "completed"
    },
    "tags": []
   },
   "source": [
    "As you can see it is a very sparse table with most values as NaN. We will replace Nan to 0 to logically define that if  user A has given a rating of 0 we will not recommend that to similar users. This is true if user A has not read the book as well."
   ]
  },
  {
   "cell_type": "code",
   "execution_count": 27,
   "id": "b64070aa",
   "metadata": {
    "execution": {
     "iopub.execute_input": "2023-01-17T15:40:11.045975Z",
     "iopub.status.busy": "2023-01-17T15:40:11.045593Z",
     "iopub.status.idle": "2023-01-17T15:40:11.064426Z",
     "shell.execute_reply": "2023-01-17T15:40:11.063182Z"
    },
    "papermill": {
     "duration": 0.035464,
     "end_time": "2023-01-17T15:40:11.067107",
     "exception": false,
     "start_time": "2023-01-17T15:40:11.031643",
     "status": "completed"
    },
    "tags": []
   },
   "outputs": [],
   "source": [
    "piv_table = piv_table.fillna(0)"
   ]
  },
  {
   "cell_type": "code",
   "execution_count": 28,
   "id": "d67679c1",
   "metadata": {
    "execution": {
     "iopub.execute_input": "2023-01-17T15:40:11.093592Z",
     "iopub.status.busy": "2023-01-17T15:40:11.093152Z",
     "iopub.status.idle": "2023-01-17T15:40:11.113063Z",
     "shell.execute_reply": "2023-01-17T15:40:11.111949Z"
    },
    "papermill": {
     "duration": 0.036026,
     "end_time": "2023-01-17T15:40:11.115515",
     "exception": false,
     "start_time": "2023-01-17T15:40:11.079489",
     "status": "completed"
    },
    "tags": []
   },
   "outputs": [
    {
     "data": {
      "text/plain": [
       "0"
      ]
     },
     "execution_count": 28,
     "metadata": {},
     "output_type": "execute_result"
    }
   ],
   "source": [
    "pd.DataFrame(piv_table).isnull().sum().sum()"
   ]
  },
  {
   "cell_type": "code",
   "execution_count": 29,
   "id": "9a9307f7",
   "metadata": {
    "execution": {
     "iopub.execute_input": "2023-01-17T15:40:11.142573Z",
     "iopub.status.busy": "2023-01-17T15:40:11.142167Z",
     "iopub.status.idle": "2023-01-17T15:40:12.359388Z",
     "shell.execute_reply": "2023-01-17T15:40:12.358402Z"
    },
    "papermill": {
     "duration": 1.233942,
     "end_time": "2023-01-17T15:40:12.361859",
     "exception": false,
     "start_time": "2023-01-17T15:40:11.127917",
     "status": "completed"
    },
    "tags": []
   },
   "outputs": [
    {
     "data": {
      "text/plain": [
       "NearestNeighbors(algorithm='brute')"
      ]
     },
     "execution_count": 29,
     "metadata": {},
     "output_type": "execute_result"
    }
   ],
   "source": [
    "from sklearn.neighbors import NearestNeighbors\n",
    "model = NearestNeighbors(algorithm='brute')\n",
    "model.fit(piv_table)"
   ]
  },
  {
   "cell_type": "markdown",
   "id": "269f64cc",
   "metadata": {
    "papermill": {
     "duration": 0.011908,
     "end_time": "2023-01-17T15:40:12.386518",
     "exception": false,
     "start_time": "2023-01-17T15:40:12.374610",
     "status": "completed"
    },
    "tags": []
   },
   "source": [
    "Let's list a few books at random and see which one wwe know. "
   ]
  },
  {
   "cell_type": "code",
   "execution_count": 30,
   "id": "ce233163",
   "metadata": {
    "execution": {
     "iopub.execute_input": "2023-01-17T15:40:12.412727Z",
     "iopub.status.busy": "2023-01-17T15:40:12.412319Z",
     "iopub.status.idle": "2023-01-17T15:40:12.432379Z",
     "shell.execute_reply": "2023-01-17T15:40:12.431366Z"
    },
    "papermill": {
     "duration": 0.035692,
     "end_time": "2023-01-17T15:40:12.434495",
     "exception": false,
     "start_time": "2023-01-17T15:40:12.398803",
     "status": "completed"
    },
    "tags": []
   },
   "outputs": [
    {
     "data": {
      "text/html": [
       "<div>\n",
       "<style scoped>\n",
       "    .dataframe tbody tr th:only-of-type {\n",
       "        vertical-align: middle;\n",
       "    }\n",
       "\n",
       "    .dataframe tbody tr th {\n",
       "        vertical-align: top;\n",
       "    }\n",
       "\n",
       "    .dataframe thead th {\n",
       "        text-align: right;\n",
       "    }\n",
       "</style>\n",
       "<table border=\"1\" class=\"dataframe\">\n",
       "  <thead>\n",
       "    <tr style=\"text-align: right;\">\n",
       "      <th></th>\n",
       "      <th>User-ID</th>\n",
       "      <th>ISBN</th>\n",
       "      <th>Book-Rating</th>\n",
       "      <th>Book-Title</th>\n",
       "      <th>Book-Author</th>\n",
       "      <th>Year-Of-Publication</th>\n",
       "      <th>Publisher</th>\n",
       "    </tr>\n",
       "  </thead>\n",
       "  <tbody>\n",
       "    <tr>\n",
       "      <th>183723</th>\n",
       "      <td>26544</td>\n",
       "      <td>0425167313</td>\n",
       "      <td>9</td>\n",
       "      <td>Here on Earth</td>\n",
       "      <td>Alice Hoffman</td>\n",
       "      <td>1998</td>\n",
       "      <td>Berkley Publishing Group</td>\n",
       "    </tr>\n",
       "    <tr>\n",
       "      <th>196417</th>\n",
       "      <td>69405</td>\n",
       "      <td>0553265741</td>\n",
       "      <td>0</td>\n",
       "      <td>Sacred Sins</td>\n",
       "      <td>Nora Roberts</td>\n",
       "      <td>1990</td>\n",
       "      <td>Bantam Books</td>\n",
       "    </tr>\n",
       "    <tr>\n",
       "      <th>50763</th>\n",
       "      <td>274308</td>\n",
       "      <td>0380710218</td>\n",
       "      <td>7</td>\n",
       "      <td>Postmortem</td>\n",
       "      <td>Patricia Daniels Cornwell</td>\n",
       "      <td>1993</td>\n",
       "      <td>Harper Mass Market Paperbacks (Mm)</td>\n",
       "    </tr>\n",
       "    <tr>\n",
       "      <th>299167</th>\n",
       "      <td>271284</td>\n",
       "      <td>042515601X</td>\n",
       "      <td>0</td>\n",
       "      <td>Acts of War (Tom Clancy's Op Center (Paperback))</td>\n",
       "      <td>Tom Clancy</td>\n",
       "      <td>1997</td>\n",
       "      <td>Berkley Publishing Group</td>\n",
       "    </tr>\n",
       "    <tr>\n",
       "      <th>302896</th>\n",
       "      <td>195694</td>\n",
       "      <td>0441304834</td>\n",
       "      <td>7</td>\n",
       "      <td>Guilty Pleasures (Anita Blake Vampire Hunter (...</td>\n",
       "      <td>Laurell K. Hamilton</td>\n",
       "      <td>1995</td>\n",
       "      <td>Ace Books</td>\n",
       "    </tr>\n",
       "    <tr>\n",
       "      <th>...</th>\n",
       "      <td>...</td>\n",
       "      <td>...</td>\n",
       "      <td>...</td>\n",
       "      <td>...</td>\n",
       "      <td>...</td>\n",
       "      <td>...</td>\n",
       "      <td>...</td>\n",
       "    </tr>\n",
       "    <tr>\n",
       "      <th>337870</th>\n",
       "      <td>154345</td>\n",
       "      <td>044021873X</td>\n",
       "      <td>7</td>\n",
       "      <td>Windy City Blues (V.I. Warshawski Novels (Pape...</td>\n",
       "      <td>Sara Paretsky</td>\n",
       "      <td>1996</td>\n",
       "      <td>Dell</td>\n",
       "    </tr>\n",
       "    <tr>\n",
       "      <th>361845</th>\n",
       "      <td>169699</td>\n",
       "      <td>0553569155</td>\n",
       "      <td>4</td>\n",
       "      <td>Seinlanguage</td>\n",
       "      <td>Jerry Seinfeld</td>\n",
       "      <td>1995</td>\n",
       "      <td>Bantam Books</td>\n",
       "    </tr>\n",
       "    <tr>\n",
       "      <th>125948</th>\n",
       "      <td>265115</td>\n",
       "      <td>014025448X</td>\n",
       "      <td>7</td>\n",
       "      <td>At Home in Mitford (The Mitford Years)</td>\n",
       "      <td>Jan Karon</td>\n",
       "      <td>1996</td>\n",
       "      <td>Viking Books</td>\n",
       "    </tr>\n",
       "    <tr>\n",
       "      <th>218013</th>\n",
       "      <td>187145</td>\n",
       "      <td>0684801469</td>\n",
       "      <td>9</td>\n",
       "      <td>Farewell To Arms</td>\n",
       "      <td>Ernest Hemingway</td>\n",
       "      <td>1995</td>\n",
       "      <td>Scribner</td>\n",
       "    </tr>\n",
       "    <tr>\n",
       "      <th>163341</th>\n",
       "      <td>182053</td>\n",
       "      <td>0671617028</td>\n",
       "      <td>0</td>\n",
       "      <td>The Color Purple</td>\n",
       "      <td>Alice Walker</td>\n",
       "      <td>1985</td>\n",
       "      <td>Pocket Books</td>\n",
       "    </tr>\n",
       "  </tbody>\n",
       "</table>\n",
       "<p>117 rows × 7 columns</p>\n",
       "</div>"
      ],
      "text/plain": [
       "        User-ID        ISBN  Book-Rating  \\\n",
       "183723    26544  0425167313            9   \n",
       "196417    69405  0553265741            0   \n",
       "50763    274308  0380710218            7   \n",
       "299167   271284  042515601X            0   \n",
       "302896   195694  0441304834            7   \n",
       "...         ...         ...          ...   \n",
       "337870   154345  044021873X            7   \n",
       "361845   169699  0553569155            4   \n",
       "125948   265115  014025448X            7   \n",
       "218013   187145  0684801469            9   \n",
       "163341   182053  0671617028            0   \n",
       "\n",
       "                                               Book-Title  \\\n",
       "183723                                      Here on Earth   \n",
       "196417                                        Sacred Sins   \n",
       "50763                                          Postmortem   \n",
       "299167   Acts of War (Tom Clancy's Op Center (Paperback))   \n",
       "302896  Guilty Pleasures (Anita Blake Vampire Hunter (...   \n",
       "...                                                   ...   \n",
       "337870  Windy City Blues (V.I. Warshawski Novels (Pape...   \n",
       "361845                                       Seinlanguage   \n",
       "125948             At Home in Mitford (The Mitford Years)   \n",
       "218013                                   Farewell To Arms   \n",
       "163341                                   The Color Purple   \n",
       "\n",
       "                      Book-Author Year-Of-Publication  \\\n",
       "183723              Alice Hoffman                1998   \n",
       "196417               Nora Roberts                1990   \n",
       "50763   Patricia Daniels Cornwell                1993   \n",
       "299167                 Tom Clancy                1997   \n",
       "302896        Laurell K. Hamilton                1995   \n",
       "...                           ...                 ...   \n",
       "337870              Sara Paretsky                1996   \n",
       "361845             Jerry Seinfeld                1995   \n",
       "125948                  Jan Karon                1996   \n",
       "218013           Ernest Hemingway                1995   \n",
       "163341               Alice Walker                1985   \n",
       "\n",
       "                                 Publisher  \n",
       "183723            Berkley Publishing Group  \n",
       "196417                        Bantam Books  \n",
       "50763   Harper Mass Market Paperbacks (Mm)  \n",
       "299167            Berkley Publishing Group  \n",
       "302896                           Ace Books  \n",
       "...                                    ...  \n",
       "337870                                Dell  \n",
       "361845                        Bantam Books  \n",
       "125948                        Viking Books  \n",
       "218013                            Scribner  \n",
       "163341                        Pocket Books  \n",
       "\n",
       "[117 rows x 7 columns]"
      ]
     },
     "execution_count": 30,
     "metadata": {},
     "output_type": "execute_result"
    }
   ],
   "source": [
    "ratings.sample(frac = 0.001)"
   ]
  },
  {
   "cell_type": "code",
   "execution_count": null,
   "id": "69738ccc",
   "metadata": {
    "papermill": {
     "duration": 0.012267,
     "end_time": "2023-01-17T15:40:12.459385",
     "exception": false,
     "start_time": "2023-01-17T15:40:12.447118",
     "status": "completed"
    },
    "tags": []
   },
   "outputs": [],
   "source": []
  },
  {
   "cell_type": "markdown",
   "id": "985b234c",
   "metadata": {
    "papermill": {
     "duration": 0.012357,
     "end_time": "2023-01-17T15:40:12.484308",
     "exception": false,
     "start_time": "2023-01-17T15:40:12.471951",
     "status": "completed"
    },
    "tags": []
   },
   "source": []
  },
  {
   "cell_type": "markdown",
   "id": "2cb92bf0",
   "metadata": {
    "papermill": {
     "duration": 0.012413,
     "end_time": "2023-01-17T15:40:12.509501",
     "exception": false,
     "start_time": "2023-01-17T15:40:12.497088",
     "status": "completed"
    },
    "tags": []
   },
   "source": [
    "I had to sample multiple times to get a book that I have read. 'The Fellowship of the Ring' with ISBN 0618002227 at index 196979"
   ]
  },
  {
   "cell_type": "markdown",
   "id": "02f682d7",
   "metadata": {
    "papermill": {
     "duration": 0.012272,
     "end_time": "2023-01-17T15:40:12.534366",
     "exception": false,
     "start_time": "2023-01-17T15:40:12.522094",
     "status": "completed"
    },
    "tags": []
   },
   "source": []
  },
  {
   "cell_type": "code",
   "execution_count": 31,
   "id": "05cf5e8d",
   "metadata": {
    "execution": {
     "iopub.execute_input": "2023-01-17T15:40:12.562365Z",
     "iopub.status.busy": "2023-01-17T15:40:12.561598Z",
     "iopub.status.idle": "2023-01-17T15:40:12.586714Z",
     "shell.execute_reply": "2023-01-17T15:40:12.585777Z"
    },
    "papermill": {
     "duration": 0.041577,
     "end_time": "2023-01-17T15:40:12.588760",
     "exception": false,
     "start_time": "2023-01-17T15:40:12.547183",
     "status": "completed"
    },
    "tags": []
   },
   "outputs": [
    {
     "data": {
      "text/html": [
       "<div>\n",
       "<style scoped>\n",
       "    .dataframe tbody tr th:only-of-type {\n",
       "        vertical-align: middle;\n",
       "    }\n",
       "\n",
       "    .dataframe tbody tr th {\n",
       "        vertical-align: top;\n",
       "    }\n",
       "\n",
       "    .dataframe thead th {\n",
       "        text-align: right;\n",
       "    }\n",
       "</style>\n",
       "<table border=\"1\" class=\"dataframe\">\n",
       "  <thead>\n",
       "    <tr style=\"text-align: right;\">\n",
       "      <th>User-ID</th>\n",
       "      <th>254</th>\n",
       "      <th>507</th>\n",
       "      <th>882</th>\n",
       "      <th>1424</th>\n",
       "      <th>1435</th>\n",
       "      <th>1733</th>\n",
       "      <th>1903</th>\n",
       "      <th>2033</th>\n",
       "      <th>2110</th>\n",
       "      <th>2276</th>\n",
       "      <th>...</th>\n",
       "      <th>276018</th>\n",
       "      <th>276463</th>\n",
       "      <th>276680</th>\n",
       "      <th>276925</th>\n",
       "      <th>277427</th>\n",
       "      <th>277478</th>\n",
       "      <th>277639</th>\n",
       "      <th>278137</th>\n",
       "      <th>278188</th>\n",
       "      <th>278418</th>\n",
       "    </tr>\n",
       "    <tr>\n",
       "      <th>ISBN</th>\n",
       "      <th></th>\n",
       "      <th></th>\n",
       "      <th></th>\n",
       "      <th></th>\n",
       "      <th></th>\n",
       "      <th></th>\n",
       "      <th></th>\n",
       "      <th></th>\n",
       "      <th></th>\n",
       "      <th></th>\n",
       "      <th></th>\n",
       "      <th></th>\n",
       "      <th></th>\n",
       "      <th></th>\n",
       "      <th></th>\n",
       "      <th></th>\n",
       "      <th></th>\n",
       "      <th></th>\n",
       "      <th></th>\n",
       "      <th></th>\n",
       "      <th></th>\n",
       "    </tr>\n",
       "  </thead>\n",
       "  <tbody>\n",
       "    <tr>\n",
       "      <th>0618002227</th>\n",
       "      <td>8.0</td>\n",
       "      <td>0.0</td>\n",
       "      <td>0.0</td>\n",
       "      <td>0.0</td>\n",
       "      <td>0.0</td>\n",
       "      <td>0.0</td>\n",
       "      <td>0.0</td>\n",
       "      <td>0.0</td>\n",
       "      <td>0.0</td>\n",
       "      <td>0.0</td>\n",
       "      <td>...</td>\n",
       "      <td>0.0</td>\n",
       "      <td>0.0</td>\n",
       "      <td>0.0</td>\n",
       "      <td>0.0</td>\n",
       "      <td>0.0</td>\n",
       "      <td>0.0</td>\n",
       "      <td>0.0</td>\n",
       "      <td>0.0</td>\n",
       "      <td>0.0</td>\n",
       "      <td>0.0</td>\n",
       "    </tr>\n",
       "  </tbody>\n",
       "</table>\n",
       "<p>1 rows × 1793 columns</p>\n",
       "</div>"
      ],
      "text/plain": [
       "User-ID     254     507     882     1424    1435    1733    1903    2033    \\\n",
       "ISBN                                                                         \n",
       "0618002227     8.0     0.0     0.0     0.0     0.0     0.0     0.0     0.0   \n",
       "\n",
       "User-ID     2110    2276    ...  276018  276463  276680  276925  277427  \\\n",
       "ISBN                        ...                                           \n",
       "0618002227     0.0     0.0  ...     0.0     0.0     0.0     0.0     0.0   \n",
       "\n",
       "User-ID     277478  277639  278137  278188  278418  \n",
       "ISBN                                                \n",
       "0618002227     0.0     0.0     0.0     0.0     0.0  \n",
       "\n",
       "[1 rows x 1793 columns]"
      ]
     },
     "execution_count": 31,
     "metadata": {},
     "output_type": "execute_result"
    }
   ],
   "source": [
    "piv_table[piv_table.index == '0618002227']"
   ]
  },
  {
   "cell_type": "code",
   "execution_count": 32,
   "id": "56c3abc0",
   "metadata": {
    "execution": {
     "iopub.execute_input": "2023-01-17T15:40:12.617190Z",
     "iopub.status.busy": "2023-01-17T15:40:12.616502Z",
     "iopub.status.idle": "2023-01-17T15:40:12.621524Z",
     "shell.execute_reply": "2023-01-17T15:40:12.620809Z"
    },
    "papermill": {
     "duration": 0.021438,
     "end_time": "2023-01-17T15:40:12.623452",
     "exception": false,
     "start_time": "2023-01-17T15:40:12.602014",
     "status": "completed"
    },
    "tags": []
   },
   "outputs": [],
   "source": [
    "test_book = piv_table[piv_table.index == '0618002227'].values"
   ]
  },
  {
   "cell_type": "code",
   "execution_count": 33,
   "id": "9c27867c",
   "metadata": {
    "execution": {
     "iopub.execute_input": "2023-01-17T15:40:12.651452Z",
     "iopub.status.busy": "2023-01-17T15:40:12.650786Z",
     "iopub.status.idle": "2023-01-17T15:40:12.656526Z",
     "shell.execute_reply": "2023-01-17T15:40:12.655807Z"
    },
    "papermill": {
     "duration": 0.021962,
     "end_time": "2023-01-17T15:40:12.658397",
     "exception": false,
     "start_time": "2023-01-17T15:40:12.636435",
     "status": "completed"
    },
    "tags": []
   },
   "outputs": [
    {
     "data": {
      "text/plain": [
       "array([[8., 0., 0., ..., 0., 0., 0.]])"
      ]
     },
     "execution_count": 33,
     "metadata": {},
     "output_type": "execute_result"
    }
   ],
   "source": [
    "test_book"
   ]
  },
  {
   "cell_type": "code",
   "execution_count": 34,
   "id": "b7a0ec8f",
   "metadata": {
    "execution": {
     "iopub.execute_input": "2023-01-17T15:40:12.687017Z",
     "iopub.status.busy": "2023-01-17T15:40:12.686304Z",
     "iopub.status.idle": "2023-01-17T15:40:12.709778Z",
     "shell.execute_reply": "2023-01-17T15:40:12.708233Z"
    },
    "papermill": {
     "duration": 0.042047,
     "end_time": "2023-01-17T15:40:12.713760",
     "exception": false,
     "start_time": "2023-01-17T15:40:12.671713",
     "status": "completed"
    },
    "tags": []
   },
   "outputs": [
    {
     "data": {
      "text/plain": [
       "(array([[ 0.        , 41.76122604, 41.78516483, 41.78516483, 41.86884283]]),\n",
       " array([[1626, 1001, 2088, 2098, 1299]]))"
      ]
     },
     "execution_count": 34,
     "metadata": {},
     "output_type": "execute_result"
    }
   ],
   "source": [
    "model.kneighbors(test_book)"
   ]
  },
  {
   "cell_type": "markdown",
   "id": "49eec566",
   "metadata": {
    "papermill": {
     "duration": 0.033922,
     "end_time": "2023-01-17T15:40:12.783247",
     "exception": false,
     "start_time": "2023-01-17T15:40:12.749325",
     "status": "completed"
    },
    "tags": []
   },
   "source": [
    "From the doc we are getting distances and the "
   ]
  },
  {
   "cell_type": "code",
   "execution_count": 35,
   "id": "b60e5880",
   "metadata": {
    "execution": {
     "iopub.execute_input": "2023-01-17T15:40:12.834619Z",
     "iopub.status.busy": "2023-01-17T15:40:12.834230Z",
     "iopub.status.idle": "2023-01-17T15:40:12.847960Z",
     "shell.execute_reply": "2023-01-17T15:40:12.846658Z"
    },
    "papermill": {
     "duration": 0.034877,
     "end_time": "2023-01-17T15:40:12.852229",
     "exception": false,
     "start_time": "2023-01-17T15:40:12.817352",
     "status": "completed"
    },
    "tags": []
   },
   "outputs": [],
   "source": [
    "_, closest = model.kneighbors(test_book)"
   ]
  },
  {
   "cell_type": "code",
   "execution_count": 36,
   "id": "0c1b029a",
   "metadata": {
    "execution": {
     "iopub.execute_input": "2023-01-17T15:40:12.925210Z",
     "iopub.status.busy": "2023-01-17T15:40:12.923338Z",
     "iopub.status.idle": "2023-01-17T15:40:12.932655Z",
     "shell.execute_reply": "2023-01-17T15:40:12.931223Z"
    },
    "papermill": {
     "duration": 0.051269,
     "end_time": "2023-01-17T15:40:12.937930",
     "exception": false,
     "start_time": "2023-01-17T15:40:12.886661",
     "status": "completed"
    },
    "tags": []
   },
   "outputs": [
    {
     "name": "stdout",
     "output_type": "stream",
     "text": [
      "[1626 1001 2088 2098 1299]\n"
     ]
    }
   ],
   "source": [
    "for i in closest[:5]:\n",
    "    print(i)"
   ]
  },
  {
   "cell_type": "code",
   "execution_count": 37,
   "id": "58899c5d",
   "metadata": {
    "execution": {
     "iopub.execute_input": "2023-01-17T15:40:12.984691Z",
     "iopub.status.busy": "2023-01-17T15:40:12.984303Z",
     "iopub.status.idle": "2023-01-17T15:40:13.095379Z",
     "shell.execute_reply": "2023-01-17T15:40:13.094164Z"
    },
    "papermill": {
     "duration": 0.128287,
     "end_time": "2023-01-17T15:40:13.097649",
     "exception": false,
     "start_time": "2023-01-17T15:40:12.969362",
     "status": "completed"
    },
    "tags": []
   },
   "outputs": [
    {
     "name": "stdout",
     "output_type": "stream",
     "text": [
      "             ISBN                                         Book-Title  \\\n",
      "12763  0618002227  The Fellowship of the Ring (The Lord of the Ri...   \n",
      "\n",
      "            Book-Author Year-Of-Publication                 Publisher  \n",
      "12763  J. R. R. Tolkien                1999  Houghton Mifflin Company  \n",
      "             ISBN                             Book-Title     Book-Author  \\\n",
      "18670  0440944597  The Chocolate War (Laurel Leaf Books)  ROBERT CORMIER   \n",
      "\n",
      "      Year-Of-Publication    Publisher  \n",
      "18670                1986  Laurel Leaf  \n",
      "            ISBN Book-Title   Book-Author Year-Of-Publication  \\\n",
      "3028  1844262553       Free  Paul Vincent                2003   \n",
      "\n",
      "               Publisher  \n",
      "3028  Upfront Publishing  \n",
      "            ISBN               Book-Title      Book-Author  \\\n",
      "8838  3423202327  MÃ?Â¶rder ohne Gesicht.  Henning Mankell   \n",
      "\n",
      "     Year-Of-Publication Publisher  \n",
      "8838                1999       Dtv  \n",
      "            ISBN    Book-Title   Book-Author Year-Of-Publication    Publisher\n",
      "2227  0451208811  Blood Orchid  Stuart Woods                2003  Signet Book\n"
     ]
    }
   ],
   "source": [
    "for i in closest[:5][0]:\n",
    "    print(books[books['ISBN'] == piv_table.index[i]])"
   ]
  },
  {
   "cell_type": "code",
   "execution_count": null,
   "id": "a83ed0dc",
   "metadata": {
    "papermill": {
     "duration": 0.013087,
     "end_time": "2023-01-17T15:40:13.124249",
     "exception": false,
     "start_time": "2023-01-17T15:40:13.111162",
     "status": "completed"
    },
    "tags": []
   },
   "outputs": [],
   "source": []
  }
 ],
 "metadata": {
  "kernelspec": {
   "display_name": "Python 3",
   "language": "python",
   "name": "python3"
  },
  "language_info": {
   "codemirror_mode": {
    "name": "ipython",
    "version": 3
   },
   "file_extension": ".py",
   "mimetype": "text/x-python",
   "name": "python",
   "nbconvert_exporter": "python",
   "pygments_lexer": "ipython3",
   "version": "3.7.12"
  },
  "papermill": {
   "default_parameters": {},
   "duration": 19.024037,
   "end_time": "2023-01-17T15:40:13.958610",
   "environment_variables": {},
   "exception": null,
   "input_path": "__notebook__.ipynb",
   "output_path": "__notebook__.ipynb",
   "parameters": {},
   "start_time": "2023-01-17T15:39:54.934573",
   "version": "2.3.4"
  }
 },
 "nbformat": 4,
 "nbformat_minor": 5
}
